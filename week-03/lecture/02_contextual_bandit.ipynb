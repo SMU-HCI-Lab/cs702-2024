{
 "cells": [
  {
   "cell_type": "markdown",
   "source": [
    "# Contextual Bandit"
   ],
   "metadata": {
    "collapsed": false
   },
   "id": "6d3e1212cf2df48e"
  },
  {
   "cell_type": "code",
   "outputs": [],
   "source": [
    "import jax.numpy as jnp\n",
    "import numpy as np\n",
    "import numpyro\n",
    "import numpyro.distributions as dist\n",
    "import copy\n",
    "from dataclasses import dataclass, field\n",
    "from jax import random\n",
    "from numpyro.infer import MCMC, NUTS, Predictive\n",
    "\n",
    "rng_key = random.PRNGKey(12345)"
   ],
   "metadata": {
    "collapsed": false,
    "ExecuteTime": {
     "end_time": "2024-01-23T13:07:08.665048Z",
     "start_time": "2024-01-23T13:07:08.656963Z"
    }
   },
   "id": "bf2b7182f562efc8",
   "execution_count": 16
  },
  {
   "cell_type": "code",
   "outputs": [],
   "source": [
    "@dataclass\n",
    "class State:\n",
    "    mood: [int] = field(default_factory=list)\n",
    "    weather: [int] = field(default_factory=list)\n",
    "    arms: [int] = field(default_factory=list)\n",
    "    rewards: [int] = field(default_factory=list)\n",
    "\n",
    "\n",
    "def update(state: State, arm: int, mood: int, weather: int, reward: int) -> State:\n",
    "    \"\"\"Update the state with the new arm, mood, weather, and reward\"\"\"\n",
    "    s = copy.deepcopy(state)\n",
    "    s.mood.append(mood)\n",
    "    s.weather.append(weather)\n",
    "    s.arms.append(arm)\n",
    "    s.rewards.append(reward)\n",
    "    return s"
   ],
   "metadata": {
    "collapsed": false,
    "ExecuteTime": {
     "end_time": "2024-01-23T13:07:08.813571Z",
     "start_time": "2024-01-23T13:07:08.808299Z"
    }
   },
   "id": "e0ddf288497a41a4",
   "execution_count": 17
  },
  {
   "cell_type": "code",
   "outputs": [],
   "source": [
    "invlogit = lambda x: 1 / (1 + jnp.exp(-x))\n",
    "\n",
    "\n",
    "def model(mood, weather, arm, obs=None):\n",
    "    alpha_0 = numpyro.sample(\"alpha_0\", dist.Normal(0, 1.5))\n",
    "    alpha_mood = numpyro.sample(\"alpha_mood\", dist.Normal(0, 2).expand((2, 4)))\n",
    "    alpha_weather = numpyro.sample(\"alpha_weather\", dist.Normal(0, 2).expand((2, 4)))\n",
    "\n",
    "    logit_p = alpha_0 + alpha_mood[mood, arm] + alpha_weather[weather, arm]\n",
    "    theta = numpyro.deterministic(\"theta\", invlogit(logit_p))\n",
    "    numpyro.sample(\"obs\", dist.Binomial(probs=theta), obs=obs)\n",
    "\n",
    "\n",
    "def estimate_parameters(rng_key, state: State) -> Predictive:\n",
    "    \"\"\"Estimate the parameters of the model using MCMC\"\"\"\n",
    "    kernel = NUTS(model)\n",
    "    mcmc = MCMC(kernel, num_warmup=1000, num_samples=2000, thinning=1, progress_bar=False)    \n",
    "    mcmc.run(rng_key, obs=jnp.array(state.rewards), arm=state.arms, mood=state.mood, weather=state.weather)\n",
    "    predictive = Predictive(model, mcmc.get_samples())\n",
    "    return predictive\n",
    "\n",
    "\n",
    "class ContextualThompsonSampling:\n",
    "    @classmethod\n",
    "    def get_arm(cls, rng_key, predictive: Predictive, mood: int, weather: int) -> int:\n",
    "        pred = predictive(rng_key, arm=[0, 1, 2, 3], mood=jnp.array([mood]), weather=jnp.array([weather]))\n",
    "        n, d = pred['theta'].shape\n",
    "        theta = pred['theta'][np.random.randint(0, n)]  # Sample a random theta\n",
    "        arm = np.argmax(theta)\n",
    "        return arm\n",
    "\n",
    "    @classmethod\n",
    "    def print_theta(self, rng_key, predictive: Predictive):\n",
    "        mw = [(0, 0), (0, 1), (1, 0), (1, 1)]\n",
    "        thetas = []\n",
    "        for m, w in mw:\n",
    "            rng_key, rng_key_ = random.split(rng_key)\n",
    "            pred = predictive(rng_key_, arm=[0, 1, 2, 3], mood=jnp.array([m]), weather=jnp.array([w]))\n",
    "            thetas.append(jnp.mean(pred['theta'], axis=0))\n",
    "        thetas = jnp.array(thetas)\n",
    "        print(thetas)"
   ],
   "metadata": {
    "collapsed": false,
    "ExecuteTime": {
     "end_time": "2024-01-23T13:07:08.976649Z",
     "start_time": "2024-01-23T13:07:08.972809Z"
    }
   },
   "id": "247011e078d1efee",
   "execution_count": 18
  },
  {
   "cell_type": "code",
   "outputs": [],
   "source": [
    "class Environment:\n",
    "    def __init__(self, thetas: np.array, moods: np.array, weathers: np.array):\n",
    "        self.thetas = thetas\n",
    "        self.moods = moods  # 0: active, 1: chill\n",
    "        self.weathers = weathers  # 0: rainy, 1: sunny\n",
    "\n",
    "    def get_context(self):\n",
    "        \"\"\"Randomly sample a mood and weather\"\"\"\n",
    "        mood = np.random.choice(self.moods)\n",
    "        weather = np.random.choice(self.weathers)\n",
    "        return mood, weather\n",
    "\n",
    "\n",
    "def react(env: Environment, arm: int, mood: int, weather: int) -> int:\n",
    "    \"\"\"Return a reward based on the arm, mood, and weather\"\"\"\n",
    "    idx = mood * 2 + weather\n",
    "    theta = env.thetas[idx]\n",
    "\n",
    "    if np.random.random() < theta[arm]:\n",
    "        return 1\n",
    "    else:\n",
    "        return 0"
   ],
   "metadata": {
    "collapsed": false,
    "ExecuteTime": {
     "end_time": "2024-01-23T13:07:09.137115Z",
     "start_time": "2024-01-23T13:07:09.133334Z"
    }
   },
   "id": "186c4ded46532edf",
   "execution_count": 19
  },
  {
   "cell_type": "code",
   "outputs": [
    {
     "name": "stdout",
     "output_type": "stream",
     "text": [
      "Iteration 0\n",
      "Iteration 10\n",
      "Iteration 20\n",
      "Iteration 30\n",
      "Iteration 40\n",
      "Iteration 50\n",
      "Iteration 60\n",
      "Iteration 70\n",
      "Iteration 80\n",
      "Iteration 90\n",
      "Iteration 100\n",
      "Iteration 110\n",
      "Iteration 120\n",
      "Iteration 130\n",
      "Iteration 140\n",
      "Iteration 150\n",
      "Iteration 160\n",
      "Iteration 170\n",
      "Iteration 180\n",
      "Iteration 190\n",
      "Iteration 200\n",
      "Iteration 210\n",
      "Iteration 220\n",
      "Iteration 230\n",
      "Iteration 240\n",
      "Iteration 250\n",
      "Iteration 260\n",
      "Iteration 270\n",
      "Iteration 280\n",
      "Iteration 290\n"
     ]
    }
   ],
   "source": [
    "moods = jnp.array([0, 1])\n",
    "weathers = jnp.array([0, 1])\n",
    "thetas = jnp.array([[1e-3, 1e-3, 0.60, 0.40],  # active, rainy\n",
    "                    [0.60, 0.20, 1e-3, 0.20],  # active, sunny\n",
    "                    [1e-3, 1e-3, 0.20, 0.80],  # chill, rainy\n",
    "                    [0.20, 0.60, 1e-3, 0.20]])  # chill, sunny\n",
    "\n",
    "env = Environment(thetas, moods, weathers)\n",
    "state = State()\n",
    "\n",
    "rng_key, rng_key_ = random.split(rng_key)\n",
    "predictive = estimate_parameters(rng_key_, state)\n",
    "num_trials = 300\n",
    "\n",
    "for i in range(num_trials):\n",
    "    if i % 10 == 0:\n",
    "        print(f\"Iteration {i}\")\n",
    "        rng_key, rng_key_ = random.split(rng_key)\n",
    "        predictive = estimate_parameters(rng_key_, state)\n",
    "\n",
    "    mood, weather = env.get_context()\n",
    "    rng_key, rng_key_ = random.split(rng_key)\n",
    "    arm = ContextualThompsonSampling.get_arm(rng_key_, predictive, mood, weather)\n",
    "    reward = react(env, arm, mood, weather)\n",
    "    state = update(state, arm, mood, weather, reward)\n"
   ],
   "metadata": {
    "collapsed": false,
    "ExecuteTime": {
     "end_time": "2024-01-23T13:10:06.908063Z",
     "start_time": "2024-01-23T13:07:09.290505Z"
    }
   },
   "id": "e64deffbf2b2d6fd",
   "execution_count": 20
  },
  {
   "cell_type": "code",
   "outputs": [
    {
     "ename": "TypeError",
     "evalue": "ContextualThompsonSampling.print_theta() missing 1 required positional argument: 'predictive'",
     "output_type": "error",
     "traceback": [
      "\u001B[0;31m---------------------------------------------------------------------------\u001B[0m",
      "\u001B[0;31mTypeError\u001B[0m                                 Traceback (most recent call last)",
      "Cell \u001B[0;32mIn[21], line 1\u001B[0m\n\u001B[0;32m----> 1\u001B[0m \u001B[43mContextualThompsonSampling\u001B[49m\u001B[38;5;241;43m.\u001B[39;49m\u001B[43mprint_theta\u001B[49m\u001B[43m(\u001B[49m\u001B[43mpredictive\u001B[49m\u001B[43m)\u001B[49m\n\u001B[1;32m      3\u001B[0m \u001B[38;5;66;03m# The thetas that we defined.\u001B[39;00m\n\u001B[1;32m      4\u001B[0m \u001B[38;5;66;03m# thetas = jnp.array([[1e-3, 1e-3, 0.60, 0.40],  # active, rainy\u001B[39;00m\n\u001B[1;32m      5\u001B[0m \u001B[38;5;66;03m#                     [0.60, 0.20, 1e-3, 0.20],  # active, sunny\u001B[39;00m\n\u001B[1;32m      6\u001B[0m \u001B[38;5;66;03m#                     [1e-3, 1e-3, 0.20, 0.80],  # chill, rainy\u001B[39;00m\n\u001B[1;32m      7\u001B[0m \u001B[38;5;66;03m#                     [0.20, 0.60, 1e-3, 0.20]])  # chill, sunny\u001B[39;00m\n",
      "\u001B[0;31mTypeError\u001B[0m: ContextualThompsonSampling.print_theta() missing 1 required positional argument: 'predictive'"
     ]
    }
   ],
   "source": [
    "ContextualThompsonSampling.print_theta(predictive)\n",
    "\n",
    "# The thetas that we defined.\n",
    "# thetas = jnp.array([[1e-3, 1e-3, 0.60, 0.40],  # active, rainy\n",
    "#                     [0.60, 0.20, 1e-3, 0.20],  # active, sunny\n",
    "#                     [1e-3, 1e-3, 0.20, 0.80],  # chill, rainy\n",
    "#                     [0.20, 0.60, 1e-3, 0.20]])  # chill, sunny"
   ],
   "metadata": {
    "collapsed": false,
    "ExecuteTime": {
     "end_time": "2024-01-23T13:10:07.037241Z",
     "start_time": "2024-01-23T13:10:06.908556Z"
    }
   },
   "id": "199bd3af54659c2d",
   "execution_count": 21
  },
  {
   "cell_type": "code",
   "outputs": [],
   "source": [
    "for i in range(10):\n",
    "    m, w = env.get_context()\n",
    "    pred = predictive(rng_key=rng_key, arm=[0, 1, 2, 3], mood=jnp.array([m]), weather=jnp.array([w]))\n",
    "    n, d = pred['theta'].shape\n",
    "    theta = pred['theta'][np.random.randint(0, n)]  # Sample a random theta\n",
    "    arm = np.argmax(theta)\n",
    "    print(f\"mood: {m}, weather: {w}, arm: {arm}, theta: {theta[arm]}\")\n"
   ],
   "metadata": {
    "collapsed": false,
    "ExecuteTime": {
     "start_time": "2024-01-23T13:10:07.034223Z"
    }
   },
   "id": "b7b22950ecb144b6",
   "execution_count": null
  },
  {
   "cell_type": "code",
   "outputs": [],
   "source": [
    "import matplotlib.patches as mpatches\n",
    "import matplotlib.pyplot as plt\n",
    "plt.style.use(\"seaborn-v0_8\")\n",
    "\n",
    "\n",
    "# Plot a scatter plot of which arm was chosen at each time step\n",
    "arm_index = [0, 1, 2, 3]\n",
    "arm_descriptions = [\"Cycling\", \"Picnic\", \"Climbing\", \"Movie\"]\n",
    "contexts = [(0, 0), (0, 1), (1, 0), (1, 1)]\n",
    "context_descriptions = [\"active, rainy\", \"active, sunny\", \"chill, rainy\", \"chill, sunny\"]\n",
    "arm_colors = [\"#1f77b4\", \"#ff7f0e\", \"#2ca02c\", \"#d62728\"]\n",
    "\n",
    "# Plot the arm choices\n",
    "fig, ax = plt.subplots(1, 1, figsize=(7, 4))\n",
    "\n",
    "c2i = lambda m, w: m * 2 + w\n",
    "\n",
    "\n",
    "for m, w in contexts:\n",
    "    for ai, arm in enumerate(arm_index):\n",
    "        x, y, c = [], [], []\n",
    "        for i in range(len(state.arms)):            \n",
    "            if state.mood[i] == m and state.weather[i] == w and state.arms[i] == arm:\n",
    "                x.append(i)\n",
    "                y.append(c2i(m, w) + ai * 0.1)\n",
    "                c.append(arm_colors[arm])\n",
    "        ax.scatter(x, y, c=c, s=20, alpha=0.5)\n",
    "    \n",
    "ax.set_yticks(range(len(contexts)), context_descriptions)\n",
    "ax.set_ylabel(\"Context\")\n",
    "ax.set_xlabel(\"Trial\")\n",
    "ax.set_xlim([0, 300])\n",
    "\n",
    "handles = []\n",
    "for arm in arm_index:\n",
    "    h = mpatches.Patch(color=arm_colors[arm], label=arm_descriptions[arm])\n",
    "    handles.append(h)\n",
    "plt.legend(handles=handles, bbox_to_anchor=(1., 1.1), loc=\"upper right\", ncols=4)\n",
    "plt.tight_layout()\n",
    "plt.show()"
   ],
   "metadata": {
    "collapsed": false,
    "ExecuteTime": {
     "start_time": "2024-01-23T13:10:07.035518Z"
    }
   },
   "id": "6b5123e093e16a79",
   "execution_count": null
  },
  {
   "cell_type": "code",
   "outputs": [],
   "source": [
    "thetas"
   ],
   "metadata": {
    "collapsed": false,
    "ExecuteTime": {
     "start_time": "2024-01-23T13:10:07.036456Z"
    }
   },
   "id": "df23f3f07d477fba",
   "execution_count": null
  },
  {
   "cell_type": "code",
   "outputs": [],
   "source": [],
   "metadata": {
    "collapsed": false
   },
   "id": "478b028c94d841f9"
  }
 ],
 "metadata": {
  "kernelspec": {
   "display_name": "Python 3",
   "language": "python",
   "name": "python3"
  },
  "language_info": {
   "codemirror_mode": {
    "name": "ipython",
    "version": 2
   },
   "file_extension": ".py",
   "mimetype": "text/x-python",
   "name": "python",
   "nbconvert_exporter": "python",
   "pygments_lexer": "ipython2",
   "version": "2.7.6"
  }
 },
 "nbformat": 4,
 "nbformat_minor": 5
}
