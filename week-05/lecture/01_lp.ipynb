{
 "cells": [
  {
   "cell_type": "markdown",
   "source": [
    "# Linear Programming"
   ],
   "metadata": {
    "collapsed": false
   },
   "id": "80b1ba1f05cd62fe"
  },
  {
   "cell_type": "code",
   "outputs": [],
   "source": [
    "import pyomo.environ as pyo\n",
    "\n",
    "# Initialize an optimization problem\n",
    "model = pyo.ConcreteModel()\n",
    "\n",
    "# Define non-negative real variables\n",
    "model.x_aw = pyo.Var(domain=pyo.NonNegativeReals)\n",
    "model.x_af = pyo.Var(domain=pyo.NonNegativeReals)\n",
    "model.x_bw = pyo.Var(domain=pyo.NonNegativeReals)\n",
    "model.x_bf = pyo.Var(domain=pyo.NonNegativeReals)\n",
    "\n",
    "# Set the objective function\n",
    "model.obj = pyo.Objective(\n",
    "    expr=2 * model.x_aw + model.x_af + model.x_bw + 3 * model.x_bf,\n",
    "    sense=pyo.maximize\n",
    ")\n",
    "\n",
    "# Set the constraints\n",
    "model.constraint_a = pyo.Constraint(expr=model.x_aw + model.x_af <= 10)\n",
    "model.constraint_b = pyo.Constraint(expr=model.x_bw + model.x_bf <= 8)\n",
    "\n",
    "# Define a solver and solve the optimization problem\n",
    "solver = pyo.SolverFactory('ipopt')\n",
    "result = solver.solve(model)"
   ],
   "metadata": {
    "collapsed": false,
    "ExecuteTime": {
     "end_time": "2024-01-15T04:03:00.896855Z",
     "start_time": "2024-01-15T04:03:00.506042Z"
    }
   },
   "id": "17b2c7035b1c07d9",
   "execution_count": 1
  },
  {
   "cell_type": "code",
   "outputs": [
    {
     "name": "stdout",
     "output_type": "stream",
     "text": [
      "obj : Size=1, Index=None, Active=True\n",
      "    Key  : Active : Value\n",
      "    None :   True : 44.000000459975524\n"
     ]
    }
   ],
   "source": [
    "# Display the result of the objective function\n",
    "model.obj.display()\n",
    "\n",
    "# obj : Size=1, Index=None, Active=True\n",
    "#     Key  : Active : Value\n",
    "#     None :   True : 44.000000459975524"
   ],
   "metadata": {
    "collapsed": false,
    "ExecuteTime": {
     "end_time": "2024-01-15T04:03:01.352065Z",
     "start_time": "2024-01-15T04:03:01.346940Z"
    }
   },
   "id": "6e2afa9dc7ae6979",
   "execution_count": 2
  },
  {
   "cell_type": "code",
   "outputs": [
    {
     "name": "stdout",
     "output_type": "stream",
     "text": [
      "x_aw = 10.00\n",
      "x_af = -0.00\n",
      "x_bw = -0.00\n",
      "x_bf = 8.00\n"
     ]
    }
   ],
   "source": [
    "# Retrieve the values of the decision variables\n",
    "print(f'x_aw = {pyo.value(model.x_aw):.2f}')\n",
    "print(f'x_af = {pyo.value(model.x_af):.2f}')\n",
    "print(f'x_bw = {pyo.value(model.x_bw):.2f}')\n",
    "print(f'x_bf = {pyo.value(model.x_bf):.2f}')\n",
    "\n",
    "# x_aw = 10.00\n",
    "# x_af = -0.00\n",
    "# x_bw = -0.00\n",
    "# x_bf = 8.00"
   ],
   "metadata": {
    "collapsed": false,
    "ExecuteTime": {
     "end_time": "2024-01-15T04:03:01.722846Z",
     "start_time": "2024-01-15T04:03:01.717509Z"
    }
   },
   "id": "c6bc64b62939b041",
   "execution_count": 3
  },
  {
   "cell_type": "code",
   "outputs": [],
   "source": [],
   "metadata": {
    "collapsed": false
   },
   "id": "d192f89c9eebd377"
  }
 ],
 "metadata": {
  "kernelspec": {
   "display_name": "Python 3",
   "language": "python",
   "name": "python3"
  },
  "language_info": {
   "codemirror_mode": {
    "name": "ipython",
    "version": 2
   },
   "file_extension": ".py",
   "mimetype": "text/x-python",
   "name": "python",
   "nbconvert_exporter": "python",
   "pygments_lexer": "ipython2",
   "version": "2.7.6"
  }
 },
 "nbformat": 4,
 "nbformat_minor": 5
}
